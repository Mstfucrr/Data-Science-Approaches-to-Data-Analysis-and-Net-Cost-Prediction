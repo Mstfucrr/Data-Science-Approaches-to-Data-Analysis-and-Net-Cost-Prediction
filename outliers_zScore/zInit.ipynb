{
 "cells": [
  {
   "cell_type": "markdown",
   "metadata": {},
   "source": [
    "## Importing the libraries"
   ]
  },
  {
   "cell_type": "code",
   "execution_count": 1,
   "metadata": {},
   "outputs": [],
   "source": [
    "import matplotlib.pyplot as plt\n",
    "import numpy as np\n",
    "import pandas as pd\n",
    "import seaborn as sns"
   ]
  },
  {
   "cell_type": "markdown",
   "metadata": {},
   "source": [
    "## Importing the dataset"
   ]
  },
  {
   "cell_type": "code",
   "execution_count": 2,
   "metadata": {},
   "outputs": [
    {
     "data": {
      "text/html": [
       "<div>\n",
       "<style scoped>\n",
       "    .dataframe tbody tr th:only-of-type {\n",
       "        vertical-align: middle;\n",
       "    }\n",
       "\n",
       "    .dataframe tbody tr th {\n",
       "        vertical-align: top;\n",
       "    }\n",
       "\n",
       "    .dataframe thead th {\n",
       "        text-align: right;\n",
       "    }\n",
       "</style>\n",
       "<table border=\"1\" class=\"dataframe\">\n",
       "  <thead>\n",
       "    <tr style=\"text-align: right;\">\n",
       "      <th></th>\n",
       "      <th>KOD</th>\n",
       "      <th>BARKOD</th>\n",
       "      <th>MAMUL</th>\n",
       "      <th>K.İÇİ</th>\n",
       "      <th>GR</th>\n",
       "      <th>LİSTE</th>\n",
       "      <th>FATURA ALTI %</th>\n",
       "      <th>DÖNEM SONU %</th>\n",
       "      <th>KDV</th>\n",
       "      <th>NET MALİYET</th>\n",
       "      <th>Ö.RAF</th>\n",
       "      <th>KATEGORİ</th>\n",
       "      <th>AY</th>\n",
       "    </tr>\n",
       "  </thead>\n",
       "  <tbody>\n",
       "    <tr>\n",
       "      <th>0</th>\n",
       "      <td>67293883</td>\n",
       "      <td>8690637840746</td>\n",
       "      <td>1</td>\n",
       "      <td>8</td>\n",
       "      <td>400.0</td>\n",
       "      <td>21.85</td>\n",
       "      <td>12.0</td>\n",
       "      <td>5</td>\n",
       "      <td>0.01</td>\n",
       "      <td>18.449266</td>\n",
       "      <td>23.061583</td>\n",
       "      <td>FOOD</td>\n",
       "      <td>MART</td>\n",
       "    </tr>\n",
       "    <tr>\n",
       "      <th>1</th>\n",
       "      <td>67293891</td>\n",
       "      <td>8690637840821</td>\n",
       "      <td>1</td>\n",
       "      <td>8</td>\n",
       "      <td>400.0</td>\n",
       "      <td>21.85</td>\n",
       "      <td>12.0</td>\n",
       "      <td>5</td>\n",
       "      <td>0.01</td>\n",
       "      <td>18.449266</td>\n",
       "      <td>23.061583</td>\n",
       "      <td>FOOD</td>\n",
       "      <td>MART</td>\n",
       "    </tr>\n",
       "    <tr>\n",
       "      <th>2</th>\n",
       "      <td>67767533</td>\n",
       "      <td>8690637905896</td>\n",
       "      <td>1</td>\n",
       "      <td>12</td>\n",
       "      <td>600.0</td>\n",
       "      <td>27.00</td>\n",
       "      <td>13.0</td>\n",
       "      <td>5</td>\n",
       "      <td>0.01</td>\n",
       "      <td>22.538655</td>\n",
       "      <td>28.173319</td>\n",
       "      <td>FOOD</td>\n",
       "      <td>MART</td>\n",
       "    </tr>\n",
       "    <tr>\n",
       "      <th>3</th>\n",
       "      <td>67754288</td>\n",
       "      <td>8690637905193</td>\n",
       "      <td>1</td>\n",
       "      <td>12</td>\n",
       "      <td>600.0</td>\n",
       "      <td>27.00</td>\n",
       "      <td>13.0</td>\n",
       "      <td>5</td>\n",
       "      <td>0.01</td>\n",
       "      <td>22.538655</td>\n",
       "      <td>28.173319</td>\n",
       "      <td>FOOD</td>\n",
       "      <td>MART</td>\n",
       "    </tr>\n",
       "    <tr>\n",
       "      <th>4</th>\n",
       "      <td>68612788</td>\n",
       "      <td>8690637999277</td>\n",
       "      <td>1</td>\n",
       "      <td>8</td>\n",
       "      <td>335.0</td>\n",
       "      <td>39.75</td>\n",
       "      <td>10.0</td>\n",
       "      <td>5</td>\n",
       "      <td>0.01</td>\n",
       "      <td>34.326113</td>\n",
       "      <td>42.907641</td>\n",
       "      <td>FOOD</td>\n",
       "      <td>MART</td>\n",
       "    </tr>\n",
       "  </tbody>\n",
       "</table>\n",
       "</div>"
      ],
      "text/plain": [
       "        KOD         BARKOD  MAMUL  K.İÇİ     GR  LİSTE  FATURA ALTI %  \\\n",
       "0  67293883  8690637840746      1      8  400.0  21.85           12.0   \n",
       "1  67293891  8690637840821      1      8  400.0  21.85           12.0   \n",
       "2  67767533  8690637905896      1     12  600.0  27.00           13.0   \n",
       "3  67754288  8690637905193      1     12  600.0  27.00           13.0   \n",
       "4  68612788  8690637999277      1      8  335.0  39.75           10.0   \n",
       "\n",
       "   DÖNEM SONU %   KDV  NET MALİYET      Ö.RAF KATEGORİ    AY  \n",
       "0             5  0.01    18.449266  23.061583     FOOD  MART  \n",
       "1             5  0.01    18.449266  23.061583     FOOD  MART  \n",
       "2             5  0.01    22.538655  28.173319     FOOD  MART  \n",
       "3             5  0.01    22.538655  28.173319     FOOD  MART  \n",
       "4             5  0.01    34.326113  42.907641     FOOD  MART  "
      ]
     },
     "execution_count": 2,
     "metadata": {},
     "output_type": "execute_result"
    }
   ],
   "source": [
    "# Veri setini import ediyoruz.\n",
    "dataset = pd.read_excel(\"vm_dataset.xlsx\")\n",
    "dataset.head()"
   ]
  },
  {
   "cell_type": "markdown",
   "metadata": {},
   "source": [
    "## Data Selection and Cleaning"
   ]
  },
  {
   "cell_type": "markdown",
   "metadata": {},
   "source": [
    "### We select only the columns we want by typing the column names in the data set."
   ]
  },
  {
   "cell_type": "code",
   "execution_count": 3,
   "metadata": {},
   "outputs": [
    {
     "data": {
      "text/html": [
       "<div>\n",
       "<style scoped>\n",
       "    .dataframe tbody tr th:only-of-type {\n",
       "        vertical-align: middle;\n",
       "    }\n",
       "\n",
       "    .dataframe tbody tr th {\n",
       "        vertical-align: top;\n",
       "    }\n",
       "\n",
       "    .dataframe thead th {\n",
       "        text-align: right;\n",
       "    }\n",
       "</style>\n",
       "<table border=\"1\" class=\"dataframe\">\n",
       "  <thead>\n",
       "    <tr style=\"text-align: right;\">\n",
       "      <th></th>\n",
       "      <th>KATEGORİ</th>\n",
       "      <th>AY</th>\n",
       "      <th>MAMUL</th>\n",
       "      <th>K.İÇİ</th>\n",
       "      <th>GR</th>\n",
       "      <th>LİSTE</th>\n",
       "      <th>NET MALİYET</th>\n",
       "    </tr>\n",
       "  </thead>\n",
       "  <tbody>\n",
       "    <tr>\n",
       "      <th>0</th>\n",
       "      <td>FOOD</td>\n",
       "      <td>MART</td>\n",
       "      <td>1</td>\n",
       "      <td>8</td>\n",
       "      <td>400.0</td>\n",
       "      <td>21.85</td>\n",
       "      <td>18.449266</td>\n",
       "    </tr>\n",
       "    <tr>\n",
       "      <th>1</th>\n",
       "      <td>FOOD</td>\n",
       "      <td>MART</td>\n",
       "      <td>1</td>\n",
       "      <td>8</td>\n",
       "      <td>400.0</td>\n",
       "      <td>21.85</td>\n",
       "      <td>18.449266</td>\n",
       "    </tr>\n",
       "    <tr>\n",
       "      <th>2</th>\n",
       "      <td>FOOD</td>\n",
       "      <td>MART</td>\n",
       "      <td>1</td>\n",
       "      <td>12</td>\n",
       "      <td>600.0</td>\n",
       "      <td>27.00</td>\n",
       "      <td>22.538655</td>\n",
       "    </tr>\n",
       "    <tr>\n",
       "      <th>3</th>\n",
       "      <td>FOOD</td>\n",
       "      <td>MART</td>\n",
       "      <td>1</td>\n",
       "      <td>12</td>\n",
       "      <td>600.0</td>\n",
       "      <td>27.00</td>\n",
       "      <td>22.538655</td>\n",
       "    </tr>\n",
       "    <tr>\n",
       "      <th>4</th>\n",
       "      <td>FOOD</td>\n",
       "      <td>MART</td>\n",
       "      <td>1</td>\n",
       "      <td>8</td>\n",
       "      <td>335.0</td>\n",
       "      <td>39.75</td>\n",
       "      <td>34.326113</td>\n",
       "    </tr>\n",
       "  </tbody>\n",
       "</table>\n",
       "</div>"
      ],
      "text/plain": [
       "  KATEGORİ    AY  MAMUL  K.İÇİ     GR  LİSTE  NET MALİYET\n",
       "0     FOOD  MART      1      8  400.0  21.85    18.449266\n",
       "1     FOOD  MART      1      8  400.0  21.85    18.449266\n",
       "2     FOOD  MART      1     12  600.0  27.00    22.538655\n",
       "3     FOOD  MART      1     12  600.0  27.00    22.538655\n",
       "4     FOOD  MART      1      8  335.0  39.75    34.326113"
      ]
     },
     "execution_count": 3,
     "metadata": {},
     "output_type": "execute_result"
    }
   ],
   "source": [
    "# Veri setindeki sütun isimlerini yazarak sadece istediğimiz sütunları seçiyoruz.\n",
    "selected_columns = ['KATEGORİ', 'AY', 'MAMUL', 'K.İÇİ', 'GR', 'LİSTE', 'NET MALİYET']\n",
    "data_selected = dataset[selected_columns]\n",
    "data_selected.head()"
   ]
  },
  {
   "cell_type": "markdown",
   "metadata": {},
   "source": [
    "### Determine the categorical and numerical columns of the data set"
   ]
  },
  {
   "cell_type": "code",
   "execution_count": 4,
   "metadata": {},
   "outputs": [],
   "source": [
    "# veri setinin kategorik ve sayısal süütunlarını belirleme\n",
    "categorical_columns = ['KATEGORİ', 'AY', 'MAMUL']\n",
    "numeric_columns = ['K.İÇİ', 'GR', 'LİSTE']"
   ]
  },
  {
   "cell_type": "markdown",
   "metadata": {},
   "source": [
    "### Detecting outliers with the iqr method"
   ]
  },
  {
   "cell_type": "code",
   "execution_count": 5,
   "metadata": {},
   "outputs": [
    {
     "name": "stdout",
     "output_type": "stream",
     "text": [
      "168\n"
     ]
    }
   ],
   "source": [
    "from scipy.stats import zscore\n",
    "\n",
    "# Aykırı değerlerin z-skor yöntemiyle tespit edilmesi\n",
    "def detect_outliers(data, columns):\n",
    "    # Aykırı değerleri saklamak için bir DataFrame oluştur\n",
    "    outliers = pd.DataFrame()\n",
    "    # Belirli sütunlar üzerinde döngü yap\n",
    "    for column in columns:\n",
    "        z_scores = zscore(data[column])\n",
    "        abs_z_scores = np.abs(z_scores)\n",
    "        trashold = 3\n",
    "        filtered_entries = (abs_z_scores < trashold)\n",
    "        outliers = pd.concat([outliers, data[~filtered_entries]])\n",
    "        \n",
    "    # Toplanan aykırı değerleri içeren DataFrame'i geri döndür\n",
    "    return outliers\n",
    "\n",
    "# detect_outliers fonksiyonunu kullanarak aykırı değerleri tespit et\n",
    "outliers = detect_outliers(data_selected, numeric_columns)\n",
    "\n",
    "# Aykırı değerleri orijinal veri setinden çıkar\n",
    "data_selected = data_selected.drop(outliers.index, axis=0)\n",
    "\n",
    "print(len(outliers))\n"
   ]
  },
  {
   "cell_type": "markdown",
   "metadata": {},
   "source": [
    "### Statistical summary of the dataset"
   ]
  },
  {
   "cell_type": "code",
   "execution_count": 6,
   "metadata": {},
   "outputs": [
    {
     "data": {
      "text/html": [
       "<div>\n",
       "<style scoped>\n",
       "    .dataframe tbody tr th:only-of-type {\n",
       "        vertical-align: middle;\n",
       "    }\n",
       "\n",
       "    .dataframe tbody tr th {\n",
       "        vertical-align: top;\n",
       "    }\n",
       "\n",
       "    .dataframe thead th {\n",
       "        text-align: right;\n",
       "    }\n",
       "</style>\n",
       "<table border=\"1\" class=\"dataframe\">\n",
       "  <thead>\n",
       "    <tr style=\"text-align: right;\">\n",
       "      <th></th>\n",
       "      <th>adet</th>\n",
       "      <th>ortalama</th>\n",
       "      <th>standart sapma</th>\n",
       "      <th>min</th>\n",
       "      <th>1.çeyrek</th>\n",
       "      <th>medyan</th>\n",
       "      <th>3.çeyrek</th>\n",
       "      <th>maksimum</th>\n",
       "    </tr>\n",
       "  </thead>\n",
       "  <tbody>\n",
       "    <tr>\n",
       "      <th>MAMUL</th>\n",
       "      <td>3688.00</td>\n",
       "      <td>8.23</td>\n",
       "      <td>5.22</td>\n",
       "      <td>1.00</td>\n",
       "      <td>3.00</td>\n",
       "      <td>9.00</td>\n",
       "      <td>12.00</td>\n",
       "      <td>17.00</td>\n",
       "    </tr>\n",
       "    <tr>\n",
       "      <th>K.İÇİ</th>\n",
       "      <td>3688.00</td>\n",
       "      <td>30.54</td>\n",
       "      <td>38.08</td>\n",
       "      <td>1.00</td>\n",
       "      <td>12.00</td>\n",
       "      <td>16.00</td>\n",
       "      <td>24.00</td>\n",
       "      <td>144.00</td>\n",
       "    </tr>\n",
       "    <tr>\n",
       "      <th>GR</th>\n",
       "      <td>3688.00</td>\n",
       "      <td>386.05</td>\n",
       "      <td>497.07</td>\n",
       "      <td>2.00</td>\n",
       "      <td>67.00</td>\n",
       "      <td>153.00</td>\n",
       "      <td>485.00</td>\n",
       "      <td>3000.00</td>\n",
       "    </tr>\n",
       "    <tr>\n",
       "      <th>LİSTE</th>\n",
       "      <td>3688.00</td>\n",
       "      <td>51.56</td>\n",
       "      <td>26.80</td>\n",
       "      <td>2.00</td>\n",
       "      <td>29.65</td>\n",
       "      <td>54.50</td>\n",
       "      <td>66.90</td>\n",
       "      <td>149.38</td>\n",
       "    </tr>\n",
       "    <tr>\n",
       "      <th>NET MALİYET</th>\n",
       "      <td>3688.00</td>\n",
       "      <td>44.77</td>\n",
       "      <td>24.92</td>\n",
       "      <td>1.17</td>\n",
       "      <td>22.01</td>\n",
       "      <td>43.84</td>\n",
       "      <td>62.81</td>\n",
       "      <td>152.16</td>\n",
       "    </tr>\n",
       "  </tbody>\n",
       "</table>\n",
       "</div>"
      ],
      "text/plain": [
       "               adet  ortalama  standart sapma  min  1.çeyrek  medyan  3.çeyrek  maksimum\n",
       "MAMUL       3688.00      8.23            5.22 1.00      3.00    9.00     12.00     17.00\n",
       "K.İÇİ       3688.00     30.54           38.08 1.00     12.00   16.00     24.00    144.00\n",
       "GR          3688.00    386.05          497.07 2.00     67.00  153.00    485.00   3000.00\n",
       "LİSTE       3688.00     51.56           26.80 2.00     29.65   54.50     66.90    149.38\n",
       "NET MALİYET 3688.00     44.77           24.92 1.17     22.01   43.84     62.81    152.16"
      ]
     },
     "execution_count": 6,
     "metadata": {},
     "output_type": "execute_result"
    }
   ],
   "source": [
    "# Verinin istatistiksel özeti \n",
    "pd.set_option('display.float_format', '{:.2f}'.format)  # Ondalık sayıları iki basamaklı göster\n",
    "pd.set_option('display.max_columns', None)  # Tüm sütunları göster\n",
    "pd.set_option('display.width', 1000)  # Ekran genişliğini artır\n",
    "data_selected.describe().round(2).T.rename(columns={'count': 'adet', 'mean': 'ortalama', 'std': 'standart sapma', 'min': 'min', '25%': '1.çeyrek', '50%': 'medyan', '75%': '3.çeyrek', 'max': 'maksimum'})"
   ]
  },
  {
   "cell_type": "markdown",
   "metadata": {},
   "source": [
    "## Training The Model"
   ]
  },
  {
   "cell_type": "code",
   "execution_count": 7,
   "metadata": {},
   "outputs": [],
   "source": [
    "# sklearn kütüphanesinden gerekli modüllerin import edilmesi ve modelin eğitilmesi\n",
    "from sklearn.compose import ColumnTransformer\n",
    "from sklearn.pipeline import Pipeline\n",
    "from sklearn.preprocessing import OneHotEncoder , StandardScaler\n",
    "from sklearn.linear_model import LinearRegression\n",
    "\n",
    "# Sayısal ve kategorik sütunları işlemek için bir sütun dönüştürücü oluşturun\n",
    "\n",
    "\n",
    "# Sayısal ve kategorik sütunları işlemek için bir sütun dönüştürücü oluşturun\n",
    "preprocessor = ColumnTransformer(\n",
    "    transformers=[\n",
    "        ('num', StandardScaler(), numeric_columns),\n",
    "        ('cat', OneHotEncoder(), categorical_columns),\n",
    "        \n",
    "    ])\n",
    "\n",
    "\n",
    "# Ön işlemciyi ve tahmin ediciyi bir boru hattına koyun ve modeli eğitin\n",
    "model = Pipeline(steps=[('preprocessor', preprocessor),\n",
    "                      ('regressor', LinearRegression())])\n",
    "\n",
    "\n"
   ]
  },
  {
   "cell_type": "markdown",
   "metadata": {},
   "source": [
    "### Determining the Dependent and Independent variables of the set"
   ]
  },
  {
   "cell_type": "code",
   "execution_count": 8,
   "metadata": {},
   "outputs": [],
   "source": [
    "# Veri setinin Bağımlı ve Bağımsız değişkenlerini belirleme\n",
    "X = data_selected.drop('NET MALİYET', axis=1)\n",
    "y = data_selected['NET MALİYET']\n"
   ]
  },
  {
   "cell_type": "markdown",
   "metadata": {},
   "source": [
    "### Split Data Into Training and Testing Sets"
   ]
  },
  {
   "cell_type": "code",
   "execution_count": 9,
   "metadata": {},
   "outputs": [],
   "source": [
    "from sklearn.model_selection import train_test_split\n",
    "\n",
    "# Verileri eğitim ve test kümelerine bölün\n",
    "X_train, X_test, y_train, y_test = train_test_split(X, y, test_size=0.2, random_state=42)"
   ]
  },
  {
   "cell_type": "code",
   "execution_count": 10,
   "metadata": {},
   "outputs": [
    {
     "name": "stdout",
     "output_type": "stream",
     "text": [
      "eğitim seti sayısı: 2950\n",
      "test seti sayısı: 738\n"
     ]
    }
   ],
   "source": [
    "print(f'eğitim seti sayısı: {len(X_train)}')\n",
    "print(f'test seti sayısı: {len(X_test)}')"
   ]
  },
  {
   "cell_type": "markdown",
   "metadata": {},
   "source": [
    "### Train the model with x_train and y_train data"
   ]
  },
  {
   "cell_type": "code",
   "execution_count": 11,
   "metadata": {},
   "outputs": [
    {
     "data": {
      "text/html": [
       "<style>#sk-container-id-1 {color: black;background-color: white;}#sk-container-id-1 pre{padding: 0;}#sk-container-id-1 div.sk-toggleable {background-color: white;}#sk-container-id-1 label.sk-toggleable__label {cursor: pointer;display: block;width: 100%;margin-bottom: 0;padding: 0.3em;box-sizing: border-box;text-align: center;}#sk-container-id-1 label.sk-toggleable__label-arrow:before {content: \"▸\";float: left;margin-right: 0.25em;color: #696969;}#sk-container-id-1 label.sk-toggleable__label-arrow:hover:before {color: black;}#sk-container-id-1 div.sk-estimator:hover label.sk-toggleable__label-arrow:before {color: black;}#sk-container-id-1 div.sk-toggleable__content {max-height: 0;max-width: 0;overflow: hidden;text-align: left;background-color: #f0f8ff;}#sk-container-id-1 div.sk-toggleable__content pre {margin: 0.2em;color: black;border-radius: 0.25em;background-color: #f0f8ff;}#sk-container-id-1 input.sk-toggleable__control:checked~div.sk-toggleable__content {max-height: 200px;max-width: 100%;overflow: auto;}#sk-container-id-1 input.sk-toggleable__control:checked~label.sk-toggleable__label-arrow:before {content: \"▾\";}#sk-container-id-1 div.sk-estimator input.sk-toggleable__control:checked~label.sk-toggleable__label {background-color: #d4ebff;}#sk-container-id-1 div.sk-label input.sk-toggleable__control:checked~label.sk-toggleable__label {background-color: #d4ebff;}#sk-container-id-1 input.sk-hidden--visually {border: 0;clip: rect(1px 1px 1px 1px);clip: rect(1px, 1px, 1px, 1px);height: 1px;margin: -1px;overflow: hidden;padding: 0;position: absolute;width: 1px;}#sk-container-id-1 div.sk-estimator {font-family: monospace;background-color: #f0f8ff;border: 1px dotted black;border-radius: 0.25em;box-sizing: border-box;margin-bottom: 0.5em;}#sk-container-id-1 div.sk-estimator:hover {background-color: #d4ebff;}#sk-container-id-1 div.sk-parallel-item::after {content: \"\";width: 100%;border-bottom: 1px solid gray;flex-grow: 1;}#sk-container-id-1 div.sk-label:hover label.sk-toggleable__label {background-color: #d4ebff;}#sk-container-id-1 div.sk-serial::before {content: \"\";position: absolute;border-left: 1px solid gray;box-sizing: border-box;top: 0;bottom: 0;left: 50%;z-index: 0;}#sk-container-id-1 div.sk-serial {display: flex;flex-direction: column;align-items: center;background-color: white;padding-right: 0.2em;padding-left: 0.2em;position: relative;}#sk-container-id-1 div.sk-item {position: relative;z-index: 1;}#sk-container-id-1 div.sk-parallel {display: flex;align-items: stretch;justify-content: center;background-color: white;position: relative;}#sk-container-id-1 div.sk-item::before, #sk-container-id-1 div.sk-parallel-item::before {content: \"\";position: absolute;border-left: 1px solid gray;box-sizing: border-box;top: 0;bottom: 0;left: 50%;z-index: -1;}#sk-container-id-1 div.sk-parallel-item {display: flex;flex-direction: column;z-index: 1;position: relative;background-color: white;}#sk-container-id-1 div.sk-parallel-item:first-child::after {align-self: flex-end;width: 50%;}#sk-container-id-1 div.sk-parallel-item:last-child::after {align-self: flex-start;width: 50%;}#sk-container-id-1 div.sk-parallel-item:only-child::after {width: 0;}#sk-container-id-1 div.sk-dashed-wrapped {border: 1px dashed gray;margin: 0 0.4em 0.5em 0.4em;box-sizing: border-box;padding-bottom: 0.4em;background-color: white;}#sk-container-id-1 div.sk-label label {font-family: monospace;font-weight: bold;display: inline-block;line-height: 1.2em;}#sk-container-id-1 div.sk-label-container {text-align: center;}#sk-container-id-1 div.sk-container {/* jupyter's `normalize.less` sets `[hidden] { display: none; }` but bootstrap.min.css set `[hidden] { display: none !important; }` so we also need the `!important` here to be able to override the default hidden behavior on the sphinx rendered scikit-learn.org. See: https://github.com/scikit-learn/scikit-learn/issues/21755 */display: inline-block !important;position: relative;}#sk-container-id-1 div.sk-text-repr-fallback {display: none;}</style><div id=\"sk-container-id-1\" class=\"sk-top-container\"><div class=\"sk-text-repr-fallback\"><pre>Pipeline(steps=[(&#x27;preprocessor&#x27;,\n",
       "                 ColumnTransformer(transformers=[(&#x27;num&#x27;, StandardScaler(),\n",
       "                                                  [&#x27;K.İÇİ&#x27;, &#x27;GR&#x27;, &#x27;LİSTE&#x27;]),\n",
       "                                                 (&#x27;cat&#x27;, OneHotEncoder(),\n",
       "                                                  [&#x27;KATEGORİ&#x27;, &#x27;AY&#x27;,\n",
       "                                                   &#x27;MAMUL&#x27;])])),\n",
       "                (&#x27;regressor&#x27;, LinearRegression())])</pre><b>In a Jupyter environment, please rerun this cell to show the HTML representation or trust the notebook. <br />On GitHub, the HTML representation is unable to render, please try loading this page with nbviewer.org.</b></div><div class=\"sk-container\" hidden><div class=\"sk-item sk-dashed-wrapped\"><div class=\"sk-label-container\"><div class=\"sk-label sk-toggleable\"><input class=\"sk-toggleable__control sk-hidden--visually\" id=\"sk-estimator-id-1\" type=\"checkbox\" ><label for=\"sk-estimator-id-1\" class=\"sk-toggleable__label sk-toggleable__label-arrow\">Pipeline</label><div class=\"sk-toggleable__content\"><pre>Pipeline(steps=[(&#x27;preprocessor&#x27;,\n",
       "                 ColumnTransformer(transformers=[(&#x27;num&#x27;, StandardScaler(),\n",
       "                                                  [&#x27;K.İÇİ&#x27;, &#x27;GR&#x27;, &#x27;LİSTE&#x27;]),\n",
       "                                                 (&#x27;cat&#x27;, OneHotEncoder(),\n",
       "                                                  [&#x27;KATEGORİ&#x27;, &#x27;AY&#x27;,\n",
       "                                                   &#x27;MAMUL&#x27;])])),\n",
       "                (&#x27;regressor&#x27;, LinearRegression())])</pre></div></div></div><div class=\"sk-serial\"><div class=\"sk-item sk-dashed-wrapped\"><div class=\"sk-label-container\"><div class=\"sk-label sk-toggleable\"><input class=\"sk-toggleable__control sk-hidden--visually\" id=\"sk-estimator-id-2\" type=\"checkbox\" ><label for=\"sk-estimator-id-2\" class=\"sk-toggleable__label sk-toggleable__label-arrow\">preprocessor: ColumnTransformer</label><div class=\"sk-toggleable__content\"><pre>ColumnTransformer(transformers=[(&#x27;num&#x27;, StandardScaler(),\n",
       "                                 [&#x27;K.İÇİ&#x27;, &#x27;GR&#x27;, &#x27;LİSTE&#x27;]),\n",
       "                                (&#x27;cat&#x27;, OneHotEncoder(),\n",
       "                                 [&#x27;KATEGORİ&#x27;, &#x27;AY&#x27;, &#x27;MAMUL&#x27;])])</pre></div></div></div><div class=\"sk-parallel\"><div class=\"sk-parallel-item\"><div class=\"sk-item\"><div class=\"sk-label-container\"><div class=\"sk-label sk-toggleable\"><input class=\"sk-toggleable__control sk-hidden--visually\" id=\"sk-estimator-id-3\" type=\"checkbox\" ><label for=\"sk-estimator-id-3\" class=\"sk-toggleable__label sk-toggleable__label-arrow\">num</label><div class=\"sk-toggleable__content\"><pre>[&#x27;K.İÇİ&#x27;, &#x27;GR&#x27;, &#x27;LİSTE&#x27;]</pre></div></div></div><div class=\"sk-serial\"><div class=\"sk-item\"><div class=\"sk-estimator sk-toggleable\"><input class=\"sk-toggleable__control sk-hidden--visually\" id=\"sk-estimator-id-4\" type=\"checkbox\" ><label for=\"sk-estimator-id-4\" class=\"sk-toggleable__label sk-toggleable__label-arrow\">StandardScaler</label><div class=\"sk-toggleable__content\"><pre>StandardScaler()</pre></div></div></div></div></div></div><div class=\"sk-parallel-item\"><div class=\"sk-item\"><div class=\"sk-label-container\"><div class=\"sk-label sk-toggleable\"><input class=\"sk-toggleable__control sk-hidden--visually\" id=\"sk-estimator-id-5\" type=\"checkbox\" ><label for=\"sk-estimator-id-5\" class=\"sk-toggleable__label sk-toggleable__label-arrow\">cat</label><div class=\"sk-toggleable__content\"><pre>[&#x27;KATEGORİ&#x27;, &#x27;AY&#x27;, &#x27;MAMUL&#x27;]</pre></div></div></div><div class=\"sk-serial\"><div class=\"sk-item\"><div class=\"sk-estimator sk-toggleable\"><input class=\"sk-toggleable__control sk-hidden--visually\" id=\"sk-estimator-id-6\" type=\"checkbox\" ><label for=\"sk-estimator-id-6\" class=\"sk-toggleable__label sk-toggleable__label-arrow\">OneHotEncoder</label><div class=\"sk-toggleable__content\"><pre>OneHotEncoder()</pre></div></div></div></div></div></div></div></div><div class=\"sk-item\"><div class=\"sk-estimator sk-toggleable\"><input class=\"sk-toggleable__control sk-hidden--visually\" id=\"sk-estimator-id-7\" type=\"checkbox\" ><label for=\"sk-estimator-id-7\" class=\"sk-toggleable__label sk-toggleable__label-arrow\">LinearRegression</label><div class=\"sk-toggleable__content\"><pre>LinearRegression()</pre></div></div></div></div></div></div></div>"
      ],
      "text/plain": [
       "Pipeline(steps=[('preprocessor',\n",
       "                 ColumnTransformer(transformers=[('num', StandardScaler(),\n",
       "                                                  ['K.İÇİ', 'GR', 'LİSTE']),\n",
       "                                                 ('cat', OneHotEncoder(),\n",
       "                                                  ['KATEGORİ', 'AY',\n",
       "                                                   'MAMUL'])])),\n",
       "                ('regressor', LinearRegression())])"
      ]
     },
     "execution_count": 11,
     "metadata": {},
     "output_type": "execute_result"
    }
   ],
   "source": [
    "# Modeli x_train ve y_train verileri ile eğitme\n",
    "model.fit(X_train, y_train)"
   ]
  },
  {
   "cell_type": "markdown",
   "metadata": {},
   "source": [
    "### Input To Make Predictions"
   ]
  },
  {
   "cell_type": "code",
   "execution_count": 12,
   "metadata": {},
   "outputs": [
    {
     "name": "stdout",
     "output_type": "stream",
     "text": [
      "Tahmin Edilen Net Maliyet: 327.7318317573195\n"
     ]
    }
   ],
   "source": [
    "# Tahminlerde bulunmak için girdi\n",
    "new_data = pd.DataFrame({'KATEGORİ': ['PC'], 'AY': ['MAYIS'], 'MAMUL': [3],\n",
    "                         'K.İÇİ': [104], 'GR': [2333], 'LİSTE': [400.0]})\n",
    "prediction = model.predict(new_data)\n",
    "print(f\"Tahmin Edilen Net Maliyet: {prediction[0]}\")"
   ]
  },
  {
   "cell_type": "markdown",
   "metadata": {},
   "source": [
    "### The model makes predictions on the test data set"
   ]
  },
  {
   "cell_type": "code",
   "execution_count": 13,
   "metadata": {},
   "outputs": [
    {
     "data": {
      "text/html": [
       "<div>\n",
       "<style scoped>\n",
       "    .dataframe tbody tr th:only-of-type {\n",
       "        vertical-align: middle;\n",
       "    }\n",
       "\n",
       "    .dataframe tbody tr th {\n",
       "        vertical-align: top;\n",
       "    }\n",
       "\n",
       "    .dataframe thead th {\n",
       "        text-align: right;\n",
       "    }\n",
       "</style>\n",
       "<table border=\"1\" class=\"dataframe\">\n",
       "  <thead>\n",
       "    <tr style=\"text-align: right;\">\n",
       "      <th></th>\n",
       "      <th>Tahmin</th>\n",
       "      <th>Gerçek</th>\n",
       "    </tr>\n",
       "  </thead>\n",
       "  <tbody>\n",
       "    <tr>\n",
       "      <th>0</th>\n",
       "      <td>103.80</td>\n",
       "      <td>109.51</td>\n",
       "    </tr>\n",
       "    <tr>\n",
       "      <th>1</th>\n",
       "      <td>57.72</td>\n",
       "      <td>57.67</td>\n",
       "    </tr>\n",
       "    <tr>\n",
       "      <th>2</th>\n",
       "      <td>8.75</td>\n",
       "      <td>11.48</td>\n",
       "    </tr>\n",
       "    <tr>\n",
       "      <th>3</th>\n",
       "      <td>59.43</td>\n",
       "      <td>56.14</td>\n",
       "    </tr>\n",
       "    <tr>\n",
       "      <th>4</th>\n",
       "      <td>85.43</td>\n",
       "      <td>90.05</td>\n",
       "    </tr>\n",
       "    <tr>\n",
       "      <th>5</th>\n",
       "      <td>19.18</td>\n",
       "      <td>15.70</td>\n",
       "    </tr>\n",
       "    <tr>\n",
       "      <th>6</th>\n",
       "      <td>62.88</td>\n",
       "      <td>43.30</td>\n",
       "    </tr>\n",
       "    <tr>\n",
       "      <th>7</th>\n",
       "      <td>52.72</td>\n",
       "      <td>47.93</td>\n",
       "    </tr>\n",
       "    <tr>\n",
       "      <th>8</th>\n",
       "      <td>48.52</td>\n",
       "      <td>40.48</td>\n",
       "    </tr>\n",
       "    <tr>\n",
       "      <th>9</th>\n",
       "      <td>8.25</td>\n",
       "      <td>9.40</td>\n",
       "    </tr>\n",
       "  </tbody>\n",
       "</table>\n",
       "</div>"
      ],
      "text/plain": [
       "   Tahmin  Gerçek\n",
       "0  103.80  109.51\n",
       "1   57.72   57.67\n",
       "2    8.75   11.48\n",
       "3   59.43   56.14\n",
       "4   85.43   90.05\n",
       "5   19.18   15.70\n",
       "6   62.88   43.30\n",
       "7   52.72   47.93\n",
       "8   48.52   40.48\n",
       "9    8.25    9.40"
      ]
     },
     "execution_count": 13,
     "metadata": {},
     "output_type": "execute_result"
    }
   ],
   "source": [
    "# Modelin test veri seti üzerinde tahmin yapması\n",
    "y_pred = model.predict(X_test)\n",
    "\n",
    "# Modelin yaptığı tahminleri içeren değişken\n",
    "tahminler_sutunu = y_pred.reshape(len(y_pred), 1)\n",
    "\n",
    "# Gerçek değerleri içeren değişken\n",
    "gercek_sutunu = y_test.values.reshape(len(y_test), 1)\n",
    "\n",
    "# Tahminler ve gerçek değerleri birleştirerek karşılaştırma veri setini oluştur\n",
    "comparison_dataset = pd.DataFrame(\n",
    "    np.concatenate((tahminler_sutunu, gercek_sutunu), 1),\n",
    "    columns=['Tahmin', 'Gerçek'])\n",
    "comparison_dataset.head(10)\n"
   ]
  },
  {
   "cell_type": "markdown",
   "metadata": {},
   "source": [
    "#### Save forecast and actual data set as excel file"
   ]
  },
  {
   "cell_type": "code",
   "execution_count": 14,
   "metadata": {},
   "outputs": [],
   "source": [
    "# Tahmin ve gerçek değerli veri setini excel dosyası olarak kaydet\n",
    "comparison_dataset.to_excel('comparison_dataset.xlsx', index=False)"
   ]
  },
  {
   "cell_type": "markdown",
   "metadata": {},
   "source": [
    "### Calculating MSE, MAE, RMSE and R2 values\n",
    "\n",
    "> MSE : Hata Kareler Ortalaması (0'a ne kadar yakınsa o kadar iyi) </br>\n",
    "> RMSE : Hata Kareler Ortalamasının Karekökü (0'a ne kadar yakınsa o kadar iyi) </br>\n",
    "> R2 : Determinasyon katsayısı (1'e ne kadar yakınsa o kadar iyi) </br>\n",
    "> MAE : Ortalama Mutlak Hata (0'a ne kadar yakınsa o kadar iyi) </br>"
   ]
  },
  {
   "cell_type": "code",
   "execution_count": 15,
   "metadata": {},
   "outputs": [
    {
     "name": "stdout",
     "output_type": "stream",
     "text": [
      "MSE değeri: 32.691734715955576\n",
      "RMSE değeri: 5.717668643420636\n",
      "R2 değeri: 0.9470196215446245\n",
      "MAE değeri: 4.130162524580464\n"
     ]
    }
   ],
   "source": [
    "# MSE, RMSE ve R2 değerlerini hesaplama \n",
    "from sklearn.metrics import mean_squared_error, r2_score\n",
    "from sklearn.metrics import mean_absolute_error\n",
    "\n",
    "def model_performance(y_test, y_pred):\n",
    "    mse = mean_squared_error(y_test, y_pred)\n",
    "    mae = mean_absolute_error(y_test, y_pred)\n",
    "    rmse = np.sqrt(mse)\n",
    "    r2 = r2_score(y_test, y_pred)\n",
    "    print(f\"MSE değeri: {mse}\") # MSE : Hata Kareler Ortalaması (0'a ne kadar yakınsa o kadar iyi)\n",
    "    print(f\"RMSE değeri: {rmse}\") # RMSE : Hata Kareler Ortalamasının Karekökü (0'a ne kadar yakınsa o kadar iyi)\n",
    "    print(f\"R2 değeri: {r2}\") # R2 : Determinasyon katsayısı (1'e ne kadar yakınsa o kadar iyi)\n",
    "    print(f\"MAE değeri: {mae}\") # MAE : Ortalama Mutlak Hata (0'a ne kadar yakınsa o kadar iyi)\n",
    "\n",
    "model_performance(y_test, y_pred)\n"
   ]
  },
  {
   "cell_type": "code",
   "execution_count": 16,
   "metadata": {},
   "outputs": [
    {
     "name": "stdout",
     "output_type": "stream",
     "text": [
      "Training R^2 score: 0.943\n",
      "Test R^2 score: 0.947\n"
     ]
    }
   ],
   "source": [
    "# Modelin performansını test edin\n",
    "print('Training R^2 score: %.3f' % model.score(X_train, y_train))\n",
    "print('Test R^2 score: %.3f' % model.score(X_test, y_test))"
   ]
  },
  {
   "cell_type": "markdown",
   "metadata": {},
   "source": [
    "## Visualization Of Actual And Predicted Values"
   ]
  },
  {
   "cell_type": "code",
   "execution_count": 17,
   "metadata": {},
   "outputs": [
    {
     "data": {
      "image/png": "[encoded data removed]",
      "text/plain": [
       "<Figure size 640x480 with 1 Axes>"
      ]
     },
     "metadata": {},
     "output_type": "display_data"
    }
   ],
   "source": [
    "# Gerçek ve tahmin edilen değerlerin görselleştirilmesi\n",
    "sns.scatterplot(x=y_test, y=y_pred, alpha=0.9, s=50)\n",
    "sns.lineplot(x=y_test, y=y_test, color='red')\n",
    "plt.xlabel('Gerçek Değerler')\n",
    "plt.ylabel('Tahmin Edilen Değerler')\n",
    "plt.title('Gerçek ve Tahmin Edilen Değerler')\n",
    "plt.show()"
   ]
  }
 ],
 "metadata": {
  "kernelspec": {
   "display_name": "Python 3",
   "language": "python",
   "name": "python3"
  },
  "language_info": {
   "codemirror_mode": {
    "name": "ipython",
    "version": 3
   },
   "file_extension": ".py",
   "mimetype": "text/x-python",
   "name": "python",
   "nbconvert_exporter": "python",
   "pygments_lexer": "ipython3",
   "version": "3.11.0"
  }
 },
 "nbformat": 4,
 "nbformat_minor": 2
}
